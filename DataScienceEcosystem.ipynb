{
 "cells": [
  {
   "cell_type": "markdown",
   "id": "f419205a-9a00-4494-8025-effc4da6cf28",
   "metadata": {},
   "source": [
    "# Data Science Tools and Ecosystem"
   ]
  },
  {
   "cell_type": "markdown",
   "id": "e04aefda-b9a8-45ff-aaf7-069289a9ee2b",
   "metadata": {},
   "source": [
    "In this notebook, Data Science Tools and Ecosystem are summarized"
   ]
  },
  {
   "cell_type": "markdown",
   "id": "99c6455b-fdf4-4ff7-87dc-453af9e599c4",
   "metadata": {
    "tags": []
   },
   "source": [
    "___Objectives:___\n",
    "- Python\n",
    "- R\n",
    "- SQL\n",
    "- Julia"
   ]
  },
  {
   "cell_type": "markdown",
   "id": "dd4b2ff1-70e1-4ec7-84fb-bf7af8ce0d0a",
   "metadata": {},
   "source": [
    "Some of the popular languages that Data Scientists use are\n",
    "1. Python\n",
    "2. R\n",
    "3. SQL\n",
    "4. Julia"
   ]
  },
  {
   "cell_type": "markdown",
   "id": "8a17f804-6478-4148-b3e7-327850efbda1",
   "metadata": {},
   "source": [
    "Some of the commonly used libraries used by Data Scientists include\n",
    "1. Numpy\n",
    "2. Pandas\n",
    "3. TensorFlow"
   ]
  },
  {
   "cell_type": "markdown",
   "id": "fe69109c-7abd-493a-98da-562328828657",
   "metadata": {},
   "source": [
    "| Data Science Tools |\n",
    "| --- |\n",
    "| Jupyter Notebook |\n",
    "| RStudio |\n",
    "| Spyder |"
   ]
  },
  {
   "cell_type": "markdown",
   "id": "272d6cc8-1d13-452c-8368-8c174d9663b3",
   "metadata": {},
   "source": [
    "### Below are a few examples of evaluating arithmetic expressions in Python"
   ]
  },
  {
   "cell_type": "code",
   "execution_count": 24,
   "id": "f73f2fa7-0519-493e-84a7-b78b353bb794",
   "metadata": {
    "tags": []
   },
   "outputs": [
    {
     "name": "stdout",
     "output_type": "stream",
     "text": [
      "17\n"
     ]
    }
   ],
   "source": [
    "a = 3\n",
    "b = 4\n",
    "c = 5\n",
    "d = (a*b)+c\n",
    "print(d)"
   ]
  },
  {
   "cell_type": "markdown",
   "id": "3795c6f5-86bc-4148-81f9-aeb3e4f0831a",
   "metadata": {
    "tags": []
   },
   "source": [
    "**This will convert 200 minutes to hours by diving by 60**"
   ]
  },
  {
   "cell_type": "code",
   "execution_count": 31,
   "id": "461a86fa-3d17-433b-a401-e8655a1fecfd",
   "metadata": {
    "tags": []
   },
   "outputs": [
    {
     "name": "stdout",
     "output_type": "stream",
     "text": [
      "3.3333333333333335\n"
     ]
    }
   ],
   "source": [
    "b = 200\n",
    "a = 60\n",
    "c = (b/a)\n",
    "print (c)"
   ]
  },
  {
   "cell_type": "markdown",
   "id": "c7bf856f-1fde-4eb9-bb3c-b1b1f2f9ba9e",
   "metadata": {
    "tags": []
   },
   "source": [
    "## Author\n",
    "Brian Kibungei"
   ]
  },
  {
   "cell_type": "code",
   "execution_count": null,
   "id": "d945bbb8-9d36-49d7-84ed-573b827d0627",
   "metadata": {},
   "outputs": [],
   "source": []
  }
 ],
 "metadata": {
  "kernelspec": {
   "display_name": "Python 3 (ipykernel)",
   "language": "python",
   "name": "python3"
  },
  "language_info": {
   "codemirror_mode": {
    "name": "ipython",
    "version": 3
   },
   "file_extension": ".py",
   "mimetype": "text/x-python",
   "name": "python",
   "nbconvert_exporter": "python",
   "pygments_lexer": "ipython3",
   "version": "3.11.5"
  }
 },
 "nbformat": 4,
 "nbformat_minor": 5
}
